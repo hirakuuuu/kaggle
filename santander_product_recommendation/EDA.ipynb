{
 "cells": [
  {
   "attachments": {},
   "cell_type": "markdown",
   "metadata": {},
   "source": [
    "## EDA（探索的データ分析）\n",
    "学習に使用するデータを観察しましょう"
   ]
  },
  {
   "cell_type": "code",
   "execution_count": null,
   "metadata": {},
   "outputs": [],
   "source": [
    "import pandas as pd\n",
    "import numpy as np\n",
    "\n",
    "trn = pd.read_csv('./dataset/train_ver2.csv')\n",
    "trn.head()"
   ]
  },
  {
   "cell_type": "code",
   "execution_count": null,
   "metadata": {},
   "outputs": [],
   "source": [
    "trn.shape"
   ]
  },
  {
   "cell_type": "code",
   "execution_count": null,
   "metadata": {},
   "outputs": [],
   "source": [
    "# forを使うと省略されないし、型も一緒に確認できる\n",
    "for col in trn.columns:\n",
    "    print('{}\\n'.format(trn[col].head()))"
   ]
  },
  {
   "cell_type": "code",
   "execution_count": null,
   "metadata": {},
   "outputs": [],
   "source": [
    "trn.info()"
   ]
  },
  {
   "cell_type": "code",
   "execution_count": null,
   "metadata": {},
   "outputs": [],
   "source": [
    "num_cols = [col for col in trn.columns[:24] if trn[col].dtype in [\"int64\", \"float64\"]]\n",
    "trn[num_cols].describe()"
   ]
  },
  {
   "attachments": {},
   "cell_type": "markdown",
   "metadata": {},
   "source": [
    "## 数値型変数に関する分析\n",
    "- ncodpers：顧客固有識別番号\n",
    "- ind_nuevo：最小75%が0、残りが1の新規顧客指標\n",
    "- indrel：最小75%の値が1で、残りの値が99の顧客等級変数\n",
    "- tipodom：標準偏差0なので全部同じ（使えない変数）\n",
    "- cod_prov：1~52の値、数値型だがカテゴリ変数として意味を持つ地方コード変数\n",
    "- ind_actividad_cliente：半分0、半分1の活発性指標\n",
    "- renta：一家の総収入"
   ]
  },
  {
   "cell_type": "code",
   "execution_count": null,
   "metadata": {},
   "outputs": [],
   "source": [
    "cat_cols = [col for col in trn.columns[:24] if trn[col].dtype in [\"O\"]]\n",
    "trn[cat_cols].describe()"
   ]
  },
  {
   "attachments": {},
   "cell_type": "markdown",
   "metadata": {},
   "source": [
    "### カテゴリ変数についての結果値の意味\n",
    "- count：該当変数の有効なデータの個数を意味する。データの個数より小さい場合は、その分欠損している。\n",
    "- unique：データの固有値の個数。種類。\n",
    "- top：最頻値\n",
    "- freq：topの値の頻度数"
   ]
  },
  {
   "cell_type": "code",
   "execution_count": null,
   "metadata": {},
   "outputs": [],
   "source": [
    "for col in cat_cols:\n",
    "    uniq = np.unique(trn[col].astype(str));\n",
    "    print(\"-\"*50)\n",
    "    print('# col {}, n_uniq {}, uniq {}'.format(col, len(uniq), uniq))"
   ]
  },
  {
   "cell_type": "code",
   "execution_count": 11,
   "metadata": {},
   "outputs": [],
   "source": [
    "import matplotlib\n",
    "import matplotlib.pyplot as plt\n",
    "%matplotlib inline\n",
    "import seaborn as sns"
   ]
  },
  {
   "cell_type": "code",
   "execution_count": null,
   "metadata": {},
   "outputs": [],
   "source": [
    "#データの可視化\n",
    "skip_cols = ['ncodpers', 'renta']\n",
    "for col in trn.columns[:24]:\n",
    "    # 固有値が多い特徴量は時間が掛かりすぎるのでスキップ\n",
    "    if col in skip_cols:\n",
    "        continue\n",
    "\n",
    "    # 見やすくするため、領域区分と変数名を出力\n",
    "    print('-'*50)\n",
    "    print('col : ', col)\n",
    "\n",
    "    # グラフの大きさ(figsize)を設定します\n",
    "    f, ax = plt.subplots(figsize=(20, 9))\n",
    "    # seabornを使用した棒グラフを設定します\n",
    "    sns.countplot(x=col, data=trn, alpha=0.5)\n",
    "    plt.show()"
   ]
  },
  {
   "cell_type": "code",
   "execution_count": null,
   "metadata": {},
   "outputs": [],
   "source": [
    "# 月別金融商品の保有データを累積棒グラフで可視化します\n",
    "months = trn['fecha_dato'].unique().tolist()\n",
    "label_cols = trn.columns[24:].tolist()\n",
    "\n",
    "label_over_time = []\n",
    "for i in range(len(label_cols)):\n",
    "    # 毎月、各商品の総合をgroupby().agg('sum')で計算し、label_sumに保存します\n",
    "    label_sum = trn.groupby(['fecha_dato'])[label_cols[i]].agg('sum')\n",
    "    label_over_time.append(label_sum.tolist())\n",
    "\n",
    "label_sum_over_time = []\n",
    "for i in range(len(label_cols)):\n",
    "    # 累積棒グラフを可視化するため、n番目の商品の出力を\n",
    "    # 1~n番目の商品の総合として作成\n",
    "    label_sum_over_time.append(np.asarray(label_over_time[i:]).sum(axis=0))\n",
    "\n",
    "# 色指定\n",
    "color_list = ['#F5B7B1', '#D2B4DE', '#AED6F1', '#A2D9CE', '#ABEBC6', '#F9E79F', '#F5CBA7', '#CCD1D1']\n",
    "\n",
    "# 図の大きさ\n",
    "f, ax = plt.subplots(figsize=(30, 15))\n",
    "for i in range(len(label_cols)):\n",
    "    # 24個の商品についてヒストグラムを書く\n",
    "    # x軸は月のデータ、y軸には累積合計、色は８色の繰り返し\n",
    "    # 図のalpha値（透明度）は０．７\n",
    "    sns.barplot(x=months, y=label_sum_over_time[i], color=color_list[i%8], alpha=0.7)\n",
    "\n",
    "# 右上にLegendを追加\n",
    "plt.legend([plt.Rectangle((0, 0), 1, 1, fc=color_list[i%8], edgecolor='none') for i in range(len(label_cols))], label_cols, loc=1, ncol=2, prop={'size':16})"
   ]
  },
  {
   "cell_type": "code",
   "execution_count": null,
   "metadata": {},
   "outputs": [],
   "source": [
    "# 相対値を使う\n",
    "label_sum_percent = (label_sum_over_time/(1.*np.asarray(label_sum_over_time).max(axis=0)))*100\n",
    "\n",
    "# 図の大きさ\n",
    "f, ax = plt.subplots(figsize=(30, 15))\n",
    "for i in range(len(label_cols)):\n",
    "    # 24個の商品についてヒストグラムを書く\n",
    "    # x軸は月のデータ、y軸には累積合計、色は８色の繰り返し\n",
    "    # 図のalpha値（透明度）は０．７\n",
    "    sns.barplot(x=months, y=label_sum_percent[i], color=color_list[i%8], alpha=0.7)\n",
    "\n",
    "# 右上にLegendを追加\n",
    "plt.legend([plt.Rectangle((0, 0), 1, 1, fc=color_list[i%8], edgecolor='none') for i in range(len(label_cols))], label_cols, loc=1, ncol=2, prop={'size':16})"
   ]
  },
  {
   "attachments": {},
   "cell_type": "markdown",
   "metadata": {},
   "source": [
    "### 目的を見失わないようにする\n",
    "- 今回必要な情報は顧客が新規に購買する商品\n",
    "- つまり、購入しているかどうかよりは、未購入から購入した（０から１に切り替わった）点に興味がある\n",
    "- そこの可視化を目指す"
   ]
  },
  {
   "cell_type": "code",
   "execution_count": null,
   "metadata": {},
   "outputs": [],
   "source": [
    "labels = pd.read_csv('./dataset/labels.csv').astype(int)\n",
    "fecha_dato = pd.read_csv('./dataset/train_ver2.csv', usecols=['fecha_dato'])\n",
    "\n",
    "labels['date'] = fecha_dato.fecha_dato\n",
    "months = np.unique(fecha_dato.fecha_dato).tolist()\n",
    "label_cols = labels.columns.tolist()[:24]\n",
    "\n",
    "label_over_time = []\n",
    "for i in range(len(label_cols)):\n",
    "    label_over_time.append(labels.groupby(['date'])[label_cols[i]].agg('sum').tolist())\n",
    "    \n",
    "label_sum_over_time = []\n",
    "for i in range(len(label_cols)):\n",
    "    label_sum_over_time.append(np.asarray(label_over_time[i:]).sum(axis=0))\n",
    "\n",
    "# 色指定\n",
    "color_list = ['#F5B7B1', '#D2B4DE', '#AED6F1', '#A2D9CE', '#ABEBC6', '#F9E79F', '#F5CBA7', '#CCD1D1']\n",
    "\n",
    "# 図の大きさ\n",
    "f, ax = plt.subplots(figsize=(30, 15))\n",
    "for i in range(len(label_cols)):\n",
    "    sns.barplot(x=months, y=label_sum_over_time[i], color=color_list[i%8], alpha=0.7)\n",
    "\n",
    "# 右上にLegendを追加\n",
    "plt.legend([plt.Rectangle((0, 0), 1, 1, fc=color_list[i%8], edgecolor='none') for i in range(len(label_cols))], label_cols, loc=1, ncol=2, prop={'size':16})\n"
   ]
  },
  {
   "cell_type": "code",
   "execution_count": null,
   "metadata": {},
   "outputs": [],
   "source": [
    "# 相対値にする\n",
    "# 相対値を使う\n",
    "label_sum_percent = (label_sum_over_time/(1.*np.asarray(label_sum_over_time).max(axis=0)))*100\n",
    "\n",
    "# 図の大きさ\n",
    "f, ax = plt.subplots(figsize=(30, 15))\n",
    "for i in range(len(label_cols)):\n",
    "    sns.barplot(x=months, y=label_sum_percent[i], color=color_list[i%8], alpha=0.7)\n",
    "\n",
    "# 右上にLegendを追加\n",
    "plt.legend([plt.Rectangle((0, 0), 1, 1, fc=color_list[i%8], edgecolor='none') for i in range(len(label_cols))], label_cols, loc=1, ncol=2, prop={'size':16})"
   ]
  }
 ],
 "metadata": {
  "kernelspec": {
   "display_name": "kaggle_venv",
   "language": "python",
   "name": "python3"
  },
  "language_info": {
   "codemirror_mode": {
    "name": "ipython",
    "version": 3
   },
   "file_extension": ".py",
   "mimetype": "text/x-python",
   "name": "python",
   "nbconvert_exporter": "python",
   "pygments_lexer": "ipython3",
   "version": "3.9.5"
  },
  "orig_nbformat": 4
 },
 "nbformat": 4,
 "nbformat_minor": 2
}
